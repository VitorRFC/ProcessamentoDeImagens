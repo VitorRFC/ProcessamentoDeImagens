{
  "nbformat": 4,
  "nbformat_minor": 0,
  "metadata": {
    "colab": {
      "name": "ExercicioExibirImagem.ipynb",
      "provenance": [],
      "authorship_tag": "ABX9TyPNJkvdn7eZL5UY0vuRTbGY",
      "include_colab_link": true
    },
    "kernelspec": {
      "name": "python3",
      "display_name": "Python 3"
    }
  },
  "cells": [
    {
      "cell_type": "markdown",
      "metadata": {
        "id": "view-in-github",
        "colab_type": "text"
      },
      "source": [
        "<a href=\"https://colab.research.google.com/github/VitorRFC/ProcessamentoIMG/blob/master/ExercicioExibirImagem.ipynb\" target=\"_parent\"><img src=\"https://colab.research.google.com/assets/colab-badge.svg\" alt=\"Open In Colab\"/></a>"
      ]
    },
    {
      "cell_type": "code",
      "metadata": {
        "id": "rKWqzBrol-9K"
      },
      "source": [
        "#Exercicio2\n",
        "\n",
        "import numpy as np\n",
        "import cv2\n",
        "\n",
        "imagem=cv2.imread(\"mario.jpg\")\n",
        "\n",
        "\n",
        "from matplotlib import pyplot as plt\n",
        "imagem = cv2.cvtColor(imagem, cv2.COLOR_BGR2RGB)\n",
        "plt.imshow(imagem)\n",
        "plt.show()\n",
        "\n",
        "\n",
        "\n"
      ],
      "execution_count": null,
      "outputs": []
    }
  ]
}