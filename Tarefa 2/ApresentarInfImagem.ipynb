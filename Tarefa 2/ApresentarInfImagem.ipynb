{
  "nbformat": 4,
  "nbformat_minor": 0,
  "metadata": {
    "colab": {
      "name": "ApresentarInfImagem.ipynb",
      "provenance": [],
      "authorship_tag": "ABX9TyMz0j/n+cYbk6SykdudZo40",
      "include_colab_link": true
    },
    "kernelspec": {
      "name": "python3",
      "display_name": "Python 3"
    }
  },
  "cells": [
    {
      "cell_type": "markdown",
      "metadata": {
        "id": "view-in-github",
        "colab_type": "text"
      },
      "source": [
        "<a href=\"https://colab.research.google.com/github/VitorRFC/ProcessamentoIMG/blob/master/ApresentarInfImagem.ipynb\" target=\"_parent\"><img src=\"https://colab.research.google.com/assets/colab-badge.svg\" alt=\"Open In Colab\"/></a>"
      ]
    },
    {
      "cell_type": "code",
      "metadata": {
        "id": "G3MsGfyvEEWO"
      },
      "source": [
        "#exercicio 3\n",
        "\n",
        "import numpy as np\n",
        "import cv2\n",
        "import os\n",
        "\n",
        "imagem=cv2.imread(\"mario.jpg\")\n",
        "tamanho=os.path.getsize(\"mario.jpg\")\n",
        "\n",
        "from matplotlib import pyplot as plt\n",
        "imagem = cv2.cvtColor(imagem, cv2.COLOR_BGR2RGB)\n",
        "plt.imshow(imagem)\n",
        "plt.show()\n",
        "\n",
        "\n",
        "altura, largura, cores = imagem.shape\n",
        "print(\"a altura: \",altura)\n",
        "print(\"a largura: \",largura)\n",
        "print(\"o canal de cor: \",cores)\n",
        "print(\"o tamanho em bytes: \",tamanho)"
      ],
      "execution_count": null,
      "outputs": []
    }
  ]
}