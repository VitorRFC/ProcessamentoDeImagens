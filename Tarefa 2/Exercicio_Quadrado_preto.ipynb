{
  "nbformat": 4,
  "nbformat_minor": 0,
  "metadata": {
    "colab": {
      "name": "Exercicio_Quadrado_preto.ipynb",
      "provenance": [],
      "authorship_tag": "ABX9TyMmAr5udNqPtyCc2SVqXwZ+",
      "include_colab_link": true
    },
    "kernelspec": {
      "name": "python3",
      "display_name": "Python 3"
    }
  },
  "cells": [
    {
      "cell_type": "markdown",
      "metadata": {
        "id": "view-in-github",
        "colab_type": "text"
      },
      "source": [
        "<a href=\"https://colab.research.google.com/github/VitorRFC/ProcessamentoIMG/blob/master/Exercicio_Quadrado_preto.ipynb\" target=\"_parent\"><img src=\"https://colab.research.google.com/assets/colab-badge.svg\" alt=\"Open In Colab\"/></a>"
      ]
    },
    {
      "cell_type": "code",
      "metadata": {
        "id": "_8cDGRH_uVwx"
      },
      "source": [
        "#NESTA PARTE E IMPORTADA AS BIBLIOTECAS DO OPENCV\n",
        "import numpy as np \n",
        "import cv2\n",
        "#IMAGEM E LIDA NESTE MOMENTO\n",
        "imagem=cv2.imread(\"mario.jpg\")\n",
        "\n",
        "from matplotlib import pyplot as plt \n",
        "imagem = cv2.cvtColor(imagem, cv2.COLOR_BGR2RGB) #A IMAGEM E TRANSFORMADA PARA RGB\n",
        "plt.imshow(imagem) \n",
        "plt.show() #IMAGEM MOSTRADA NA TELA\n",
        "\n",
        "altura, largura, cores = imagem.shape #INFORMACOES DA IMAGEM\n",
        "y = input(\"Digite um valor para a posicao Y: \")\n",
        "y = int(y)\n",
        "x = input(\"Digite um valor para a posicao X: \")\n",
        "x = int(x)\n",
        "altura = input(\"Digite um valor para a ALTURA: \")\n",
        "altura = int(altura)\n",
        "largura = input(\"Digite um valor para a LARGURA: \")\n",
        "largura = int(largura)\n",
        "\n",
        "#AQUI PERCORRE TANTO A LINHA QUANTO A COLUNA DA IMAGEM\n",
        "for y in range(x,altura): \n",
        "  for x in range(y,largura): \n",
        "     azul = imagem.item(y,x,0)\n",
        "     verde = imagem.item(y,x,1)\n",
        "     vermelho = imagem.item(y,x,2)\n",
        "    \n",
        "     imagem.itemset((y,x,0),0)\n",
        "     imagem.itemset((y,x,1),0)\n",
        "     imagem.itemset((y,x,2),0)\n",
        "   \n",
        "plt.imshow(imagem)\n",
        "\n",
        "cv2.imwrite(\"MARIO_FAIXA_PRETA.jpg\",imagem)#AQUI A IMAGEM E SALVA\n",
        "\n",
        "\n"
      ],
      "execution_count": null,
      "outputs": []
    }
  ]
}